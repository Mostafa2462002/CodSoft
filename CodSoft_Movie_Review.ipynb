{
 "cells": [
  {
   "cell_type": "markdown",
   "id": "546f857b",
   "metadata": {},
   "source": [
    "# Reading the Data Files and Loading the needed Libraries"
   ]
  },
  {
   "cell_type": "code",
   "execution_count": 1,
   "id": "e3a9d240",
   "metadata": {},
   "outputs": [],
   "source": [
    "import numpy as np\n",
    "import pandas as pd\n",
    "import matplotlib.pyplot as plt\n",
    "from sklearn.model_selection import train_test_split\n",
    "from sklearn.linear_model import LinearRegression\n",
    "from sklearn.metrics import mean_squared_error"
   ]
  },
  {
   "cell_type": "code",
   "execution_count": 2,
   "id": "1d2381dd",
   "metadata": {
    "scrolled": true
   },
   "outputs": [],
   "source": [
    "df_ratings = pd.read_csv('ratings.dat', sep='::', engine='python',names=['UserID','MovieID','Ratings','TimeStamp'])\n",
    "df_movies = pd.read_csv('movies.dat', sep = '::', engine='python',encoding='latin1',names=['MovieID','MovieName','Category'])\n",
    "df_users = pd.read_csv('users.dat', sep = '::', engine='python',names=['UserID','Gender','Age','Occupation','Zip-code'])\n",
    "df_movies.dropna(inplace=True)\n",
    "df_ratings.dropna(inplace=True)\n",
    "df_users.dropna(inplace=True)\n"
   ]
  },
  {
   "cell_type": "markdown",
   "id": "2123b04c",
   "metadata": {},
   "source": [
    "### Data Analysis"
   ]
  },
  {
   "cell_type": "code",
   "execution_count": 3,
   "id": "51c26f6e",
   "metadata": {},
   "outputs": [
    {
     "data": {
      "text/html": [
       "<div>\n",
       "<style scoped>\n",
       "    .dataframe tbody tr th:only-of-type {\n",
       "        vertical-align: middle;\n",
       "    }\n",
       "\n",
       "    .dataframe tbody tr th {\n",
       "        vertical-align: top;\n",
       "    }\n",
       "\n",
       "    .dataframe thead th {\n",
       "        text-align: right;\n",
       "    }\n",
       "</style>\n",
       "<table border=\"1\" class=\"dataframe\">\n",
       "  <thead>\n",
       "    <tr style=\"text-align: right;\">\n",
       "      <th></th>\n",
       "      <th>UserID</th>\n",
       "      <th>MovieID</th>\n",
       "      <th>Ratings</th>\n",
       "      <th>TimeStamp</th>\n",
       "    </tr>\n",
       "  </thead>\n",
       "  <tbody>\n",
       "    <tr>\n",
       "      <th>0</th>\n",
       "      <td>1</td>\n",
       "      <td>1193</td>\n",
       "      <td>5</td>\n",
       "      <td>978300760</td>\n",
       "    </tr>\n",
       "  </tbody>\n",
       "</table>\n",
       "</div>"
      ],
      "text/plain": [
       "   UserID  MovieID  Ratings  TimeStamp\n",
       "0       1     1193        5  978300760"
      ]
     },
     "execution_count": 3,
     "metadata": {},
     "output_type": "execute_result"
    }
   ],
   "source": [
    "df_ratings.head(1)"
   ]
  },
  {
   "cell_type": "code",
   "execution_count": 4,
   "id": "808e221c",
   "metadata": {},
   "outputs": [
    {
     "data": {
      "text/html": [
       "<div>\n",
       "<style scoped>\n",
       "    .dataframe tbody tr th:only-of-type {\n",
       "        vertical-align: middle;\n",
       "    }\n",
       "\n",
       "    .dataframe tbody tr th {\n",
       "        vertical-align: top;\n",
       "    }\n",
       "\n",
       "    .dataframe thead th {\n",
       "        text-align: right;\n",
       "    }\n",
       "</style>\n",
       "<table border=\"1\" class=\"dataframe\">\n",
       "  <thead>\n",
       "    <tr style=\"text-align: right;\">\n",
       "      <th></th>\n",
       "      <th>MovieID</th>\n",
       "      <th>MovieName</th>\n",
       "      <th>Category</th>\n",
       "    </tr>\n",
       "  </thead>\n",
       "  <tbody>\n",
       "    <tr>\n",
       "      <th>0</th>\n",
       "      <td>1</td>\n",
       "      <td>Toy Story (1995)</td>\n",
       "      <td>Animation|Children's|Comedy</td>\n",
       "    </tr>\n",
       "  </tbody>\n",
       "</table>\n",
       "</div>"
      ],
      "text/plain": [
       "   MovieID         MovieName                     Category\n",
       "0        1  Toy Story (1995)  Animation|Children's|Comedy"
      ]
     },
     "execution_count": 4,
     "metadata": {},
     "output_type": "execute_result"
    }
   ],
   "source": [
    "df_movies.head(1)"
   ]
  },
  {
   "cell_type": "code",
   "execution_count": 5,
   "id": "95020137",
   "metadata": {},
   "outputs": [
    {
     "data": {
      "text/html": [
       "<div>\n",
       "<style scoped>\n",
       "    .dataframe tbody tr th:only-of-type {\n",
       "        vertical-align: middle;\n",
       "    }\n",
       "\n",
       "    .dataframe tbody tr th {\n",
       "        vertical-align: top;\n",
       "    }\n",
       "\n",
       "    .dataframe thead th {\n",
       "        text-align: right;\n",
       "    }\n",
       "</style>\n",
       "<table border=\"1\" class=\"dataframe\">\n",
       "  <thead>\n",
       "    <tr style=\"text-align: right;\">\n",
       "      <th></th>\n",
       "      <th>UserID</th>\n",
       "      <th>Gender</th>\n",
       "      <th>Age</th>\n",
       "      <th>Occupation</th>\n",
       "      <th>Zip-code</th>\n",
       "    </tr>\n",
       "  </thead>\n",
       "  <tbody>\n",
       "    <tr>\n",
       "      <th>0</th>\n",
       "      <td>1</td>\n",
       "      <td>F</td>\n",
       "      <td>1</td>\n",
       "      <td>10</td>\n",
       "      <td>48067</td>\n",
       "    </tr>\n",
       "  </tbody>\n",
       "</table>\n",
       "</div>"
      ],
      "text/plain": [
       "   UserID Gender  Age  Occupation Zip-code\n",
       "0       1      F    1          10    48067"
      ]
     },
     "execution_count": 5,
     "metadata": {},
     "output_type": "execute_result"
    }
   ],
   "source": [
    "df_users.head(1)"
   ]
  },
  {
   "cell_type": "code",
   "execution_count": 6,
   "id": "b2d412a4",
   "metadata": {
    "scrolled": false
   },
   "outputs": [
    {
     "data": {
      "text/html": [
       "<div>\n",
       "<style scoped>\n",
       "    .dataframe tbody tr th:only-of-type {\n",
       "        vertical-align: middle;\n",
       "    }\n",
       "\n",
       "    .dataframe tbody tr th {\n",
       "        vertical-align: top;\n",
       "    }\n",
       "\n",
       "    .dataframe thead th {\n",
       "        text-align: right;\n",
       "    }\n",
       "</style>\n",
       "<table border=\"1\" class=\"dataframe\">\n",
       "  <thead>\n",
       "    <tr style=\"text-align: right;\">\n",
       "      <th></th>\n",
       "      <th>UserID</th>\n",
       "      <th>MovieID</th>\n",
       "      <th>Ratings</th>\n",
       "      <th>TimeStamp</th>\n",
       "      <th>Gender</th>\n",
       "      <th>Age</th>\n",
       "      <th>Occupation</th>\n",
       "      <th>Zip-code</th>\n",
       "      <th>MovieName</th>\n",
       "      <th>Category</th>\n",
       "    </tr>\n",
       "  </thead>\n",
       "  <tbody>\n",
       "    <tr>\n",
       "      <th>0</th>\n",
       "      <td>1</td>\n",
       "      <td>1193</td>\n",
       "      <td>5</td>\n",
       "      <td>978300760</td>\n",
       "      <td>F</td>\n",
       "      <td>1</td>\n",
       "      <td>10</td>\n",
       "      <td>48067</td>\n",
       "      <td>One Flew Over the Cuckoo's Nest (1975)</td>\n",
       "      <td>Drama</td>\n",
       "    </tr>\n",
       "  </tbody>\n",
       "</table>\n",
       "</div>"
      ],
      "text/plain": [
       "   UserID  MovieID  Ratings  TimeStamp Gender  Age  Occupation Zip-code  \\\n",
       "0       1     1193        5  978300760      F    1          10    48067   \n",
       "\n",
       "                                MovieName Category  \n",
       "0  One Flew Over the Cuckoo's Nest (1975)    Drama  "
      ]
     },
     "execution_count": 6,
     "metadata": {},
     "output_type": "execute_result"
    }
   ],
   "source": [
    "merged_ratings_users = pd.merge(df_ratings, df_users, on='UserID', how='inner')\n",
    "df = pd.merge(merged_ratings_users, df_movies, on='MovieID', how='inner')\n",
    "df.head(1) #the dataframe after merging the tables"
   ]
  },
  {
   "cell_type": "code",
   "execution_count": 7,
   "id": "187d6f0e",
   "metadata": {},
   "outputs": [
    {
     "data": {
      "image/png": "[encoded data removed]",
      "text/plain": [
       "<Figure size 640x480 with 1 Axes>"
      ]
     },
     "metadata": {},
     "output_type": "display_data"
    }
   ],
   "source": [
    "df['Occupation'].plot(kind='hist'); #distribution of the occupation column"
   ]
  },
  {
   "cell_type": "code",
   "execution_count": 8,
   "id": "a6c6ab55",
   "metadata": {},
   "outputs": [
    {
     "data": {
      "image/png": "[encoded data removed]",
      "text/plain": [
       "<Figure size 640x480 with 1 Axes>"
      ]
     },
     "metadata": {},
     "output_type": "display_data"
    }
   ],
   "source": [
    "df['Age'].plot(kind='hist');"
   ]
  },
  {
   "cell_type": "code",
   "execution_count": 9,
   "id": "68a13d07",
   "metadata": {},
   "outputs": [
    {
     "data": {
      "text/plain": [
       "0"
      ]
     },
     "execution_count": 9,
     "metadata": {},
     "output_type": "execute_result"
    }
   ],
   "source": [
    "df.duplicated().sum().sum()"
   ]
  },
  {
   "cell_type": "code",
   "execution_count": 10,
   "id": "8eb65362",
   "metadata": {
    "scrolled": true
   },
   "outputs": [
    {
     "data": {
      "image/png": "[encoded data removed]",
      "text/plain": [
       "<Figure size 400x400 with 1 Axes>"
      ]
     },
     "metadata": {},
     "output_type": "display_data"
    }
   ],
   "source": [
    "df_m = df['Gender'][df['Gender']=='M']\n",
    "df_f = df['Gender'][df['Gender']=='F']\n",
    "m_count = df_m.count()\n",
    "f_count = df_f.count()\n",
    "####### visualization\n",
    "male_count = df_m.count()\n",
    "female_count = df_f.count()\n",
    "\n",
    "gender_counts = [male_count, female_count]\n",
    "gender_labels = ['Male', 'Female']\n",
    "gender_df = pd.DataFrame({'Gender': gender_labels, 'Count': gender_counts})\n",
    "ax = gender_df.plot(figsize=(4,4),kind='pie', y='Count', labels=gender_labels,autopct='%1.1f%%')\n",
    "ax.set_title('Distribution of Gender (Male vs Female)')\n",
    "plt.show()"
   ]
  },
  {
   "cell_type": "code",
   "execution_count": 11,
   "id": "f93194b6",
   "metadata": {},
   "outputs": [
    {
     "data": {
      "text/plain": [
       "301"
      ]
     },
     "execution_count": 11,
     "metadata": {},
     "output_type": "execute_result"
    }
   ],
   "source": [
    "df['Category'].nunique()#there are 301 different value \n"
   ]
  },
  {
   "cell_type": "code",
   "execution_count": 12,
   "id": "d6fdc4dd",
   "metadata": {},
   "outputs": [
    {
     "data": {
      "text/plain": [
       "1000209"
      ]
     },
     "execution_count": 12,
     "metadata": {},
     "output_type": "execute_result"
    }
   ],
   "source": [
    "df['Category'].count()"
   ]
  },
  {
   "cell_type": "code",
   "execution_count": 13,
   "id": "b85aefcb",
   "metadata": {},
   "outputs": [],
   "source": [
    "df['Category']=df['Category'][df['Category'].apply(lambda x :len(x)>20 )]\n",
    "#as we can see there are crossed values and I think this category feature is a good feature to have so we're going to feature engineer it"
   ]
  },
  {
   "cell_type": "code",
   "execution_count": 14,
   "id": "d8300623",
   "metadata": {},
   "outputs": [
    {
     "data": {
      "text/html": [
       "<div>\n",
       "<style scoped>\n",
       "    .dataframe tbody tr th:only-of-type {\n",
       "        vertical-align: middle;\n",
       "    }\n",
       "\n",
       "    .dataframe tbody tr th {\n",
       "        vertical-align: top;\n",
       "    }\n",
       "\n",
       "    .dataframe thead th {\n",
       "        text-align: right;\n",
       "    }\n",
       "</style>\n",
       "<table border=\"1\" class=\"dataframe\">\n",
       "  <thead>\n",
       "    <tr style=\"text-align: right;\">\n",
       "      <th></th>\n",
       "      <th>UserID</th>\n",
       "      <th>MovieID</th>\n",
       "      <th>Ratings</th>\n",
       "      <th>TimeStamp</th>\n",
       "      <th>Gender</th>\n",
       "      <th>Age</th>\n",
       "      <th>Occupation</th>\n",
       "      <th>Zip-code</th>\n",
       "      <th>MovieName</th>\n",
       "      <th>Category</th>\n",
       "    </tr>\n",
       "  </thead>\n",
       "  <tbody>\n",
       "    <tr>\n",
       "      <th>1725</th>\n",
       "      <td>1</td>\n",
       "      <td>661</td>\n",
       "      <td>3</td>\n",
       "      <td>978302109</td>\n",
       "      <td>F</td>\n",
       "      <td>1</td>\n",
       "      <td>10</td>\n",
       "      <td>48067</td>\n",
       "      <td>James and the Giant Peach (1996)</td>\n",
       "      <td>Animation|Children's|Musical</td>\n",
       "    </tr>\n",
       "    <tr>\n",
       "      <th>1726</th>\n",
       "      <td>23</td>\n",
       "      <td>661</td>\n",
       "      <td>2</td>\n",
       "      <td>978460739</td>\n",
       "      <td>M</td>\n",
       "      <td>35</td>\n",
       "      <td>0</td>\n",
       "      <td>90049</td>\n",
       "      <td>James and the Giant Peach (1996)</td>\n",
       "      <td>Animation|Children's|Musical</td>\n",
       "    </tr>\n",
       "    <tr>\n",
       "      <th>1727</th>\n",
       "      <td>49</td>\n",
       "      <td>661</td>\n",
       "      <td>3</td>\n",
       "      <td>977972750</td>\n",
       "      <td>M</td>\n",
       "      <td>18</td>\n",
       "      <td>12</td>\n",
       "      <td>77084</td>\n",
       "      <td>James and the Giant Peach (1996)</td>\n",
       "      <td>Animation|Children's|Musical</td>\n",
       "    </tr>\n",
       "    <tr>\n",
       "      <th>1728</th>\n",
       "      <td>53</td>\n",
       "      <td>661</td>\n",
       "      <td>5</td>\n",
       "      <td>977979726</td>\n",
       "      <td>M</td>\n",
       "      <td>25</td>\n",
       "      <td>0</td>\n",
       "      <td>96931</td>\n",
       "      <td>James and the Giant Peach (1996)</td>\n",
       "      <td>Animation|Children's|Musical</td>\n",
       "    </tr>\n",
       "    <tr>\n",
       "      <th>1729</th>\n",
       "      <td>57</td>\n",
       "      <td>661</td>\n",
       "      <td>4</td>\n",
       "      <td>977935511</td>\n",
       "      <td>M</td>\n",
       "      <td>18</td>\n",
       "      <td>19</td>\n",
       "      <td>30350</td>\n",
       "      <td>James and the Giant Peach (1996)</td>\n",
       "      <td>Animation|Children's|Musical</td>\n",
       "    </tr>\n",
       "  </tbody>\n",
       "</table>\n",
       "</div>"
      ],
      "text/plain": [
       "      UserID  MovieID  Ratings  TimeStamp Gender  Age  Occupation Zip-code  \\\n",
       "1725       1      661        3  978302109      F    1          10    48067   \n",
       "1726      23      661        2  978460739      M   35           0    90049   \n",
       "1727      49      661        3  977972750      M   18          12    77084   \n",
       "1728      53      661        5  977979726      M   25           0    96931   \n",
       "1729      57      661        4  977935511      M   18          19    30350   \n",
       "\n",
       "                             MovieName                      Category  \n",
       "1725  James and the Giant Peach (1996)  Animation|Children's|Musical  \n",
       "1726  James and the Giant Peach (1996)  Animation|Children's|Musical  \n",
       "1727  James and the Giant Peach (1996)  Animation|Children's|Musical  \n",
       "1728  James and the Giant Peach (1996)  Animation|Children's|Musical  \n",
       "1729  James and the Giant Peach (1996)  Animation|Children's|Musical  "
      ]
     },
     "execution_count": 14,
     "metadata": {},
     "output_type": "execute_result"
    }
   ],
   "source": [
    "df.dropna(inplace=True)\n",
    "df.head()"
   ]
  },
  {
   "cell_type": "code",
   "execution_count": 15,
   "id": "be94400b",
   "metadata": {},
   "outputs": [
    {
     "data": {
      "text/plain": [
       "235054"
      ]
     },
     "execution_count": 15,
     "metadata": {},
     "output_type": "execute_result"
    }
   ],
   "source": [
    "df['Category'].count()"
   ]
  },
  {
   "cell_type": "code",
   "execution_count": 16,
   "id": "5338d432",
   "metadata": {
    "scrolled": true
   },
   "outputs": [
    {
     "data": {
      "text/plain": [
       "167"
      ]
     },
     "execution_count": 16,
     "metadata": {},
     "output_type": "execute_result"
    }
   ],
   "source": [
    "df['Category'].nunique() #less now but still too many for us to make it with the one hot method so I have another idea"
   ]
  },
  {
   "cell_type": "markdown",
   "id": "fc13506d",
   "metadata": {},
   "source": [
    "## Feature Engineering for modeling and training "
   ]
  },
  {
   "cell_type": "code",
   "execution_count": 17,
   "id": "3c3fdf01",
   "metadata": {},
   "outputs": [],
   "source": [
    "#the idea is binary features and because we're going to choose the most common categories aka genres we're going to make sure that\n",
    "#we have as much data as we can without making the model too complex\n",
    "df['IsDrama'] = df['Category'].apply(lambda x: 1 if 'Drama' in x else 0)\n",
    "df['IsComedy'] = df['Category'].apply(lambda x: 1 if 'Comedy' in x else 0)\n",
    "df['IsAction'] = df['Category'].apply(lambda x: 1 if 'Action' in x else 0)\n",
    "df['IsHorror'] = df['Category'].apply(lambda x: 1 if 'Horror' in x else 0)\n",
    "df['IsChildren'] = df['Category'].apply(lambda x: 1 if 'Children\\'s' in x else 0)\n",
    "df['IsThriller'] = df['Category'].apply(lambda x: 1 if 'Thriller' in x else 0)\n",
    "df['IsDocumentary'] = df['Category'].apply(lambda x: 1 if 'Documentary' in x else 0)\n",
    "df['Gender'] = df['Gender'].apply(lambda x: 0 if x == 'F' else 1)"
   ]
  },
  {
   "cell_type": "code",
   "execution_count": 18,
   "id": "344642bf",
   "metadata": {},
   "outputs": [
    {
     "data": {
      "text/plain": [
       "array([0, 1], dtype=int64)"
      ]
     },
     "execution_count": 18,
     "metadata": {},
     "output_type": "execute_result"
    }
   ],
   "source": [
    "df['Gender'].unique()"
   ]
  },
  {
   "cell_type": "code",
   "execution_count": 19,
   "id": "3f5b2004",
   "metadata": {},
   "outputs": [],
   "source": [
    "df = df[['Ratings','Gender','Age','Occupation','IsDrama','IsComedy','IsAction','IsHorror','IsChildren','IsThriller','IsDocumentary']]"
   ]
  },
  {
   "cell_type": "code",
   "execution_count": 20,
   "id": "d287681d",
   "metadata": {},
   "outputs": [
    {
     "data": {
      "text/plain": [
       "array([3, 2, 5, 4, 1], dtype=int64)"
      ]
     },
     "execution_count": 20,
     "metadata": {},
     "output_type": "execute_result"
    }
   ],
   "source": [
    "X=df.iloc[:,1:6]\n",
    "y=df['Ratings']\n",
    "y.unique()"
   ]
  },
  {
   "cell_type": "code",
   "execution_count": 21,
   "id": "4d677523",
   "metadata": {},
   "outputs": [],
   "source": [
    "X_train,X_test,y_train,y_test = train_test_split(X,y,test_size=.2)"
   ]
  },
  {
   "cell_type": "code",
   "execution_count": 22,
   "id": "bc2c7951",
   "metadata": {},
   "outputs": [],
   "source": [
    "model = LinearRegression()\n",
    "model.fit(X_train, y_train)\n",
    "y_pred = model.predict(X_test)\n"
   ]
  },
  {
   "cell_type": "code",
   "execution_count": 23,
   "id": "f4dca8c6",
   "metadata": {},
   "outputs": [
    {
     "name": "stdout",
     "output_type": "stream",
     "text": [
      "Mean Squared Error: 1.2556964959746786\n"
     ]
    }
   ],
   "source": [
    "mse = mean_squared_error(y_test, y_pred)\n",
    "print(f\"Mean Squared Error: {mse}\")\n"
   ]
  },
  {
   "cell_type": "code",
   "execution_count": null,
   "id": "2872bc97",
   "metadata": {},
   "outputs": [],
   "source": []
  }
 ],
 "metadata": {
  "kernelspec": {
   "display_name": "Python 3 (ipykernel)",
   "language": "python",
   "name": "python3"
  },
  "language_info": {
   "codemirror_mode": {
    "name": "ipython",
    "version": 3
   },
   "file_extension": ".py",
   "mimetype": "text/x-python",
   "name": "python",
   "nbconvert_exporter": "python",
   "pygments_lexer": "ipython3",
   "version": "3.9.12"
  }
 },
 "nbformat": 4,
 "nbformat_minor": 5
}
